{
 "cells": [
  {
   "cell_type": "code",
   "execution_count": 7,
   "id": "c1b21972-d322-4746-8621-871de6f68eed",
   "metadata": {},
   "outputs": [
    {
     "name": "stdout",
     "output_type": "stream",
     "text": [
      "Accuracy: 0.92\n",
      "   Weight (g) True Label Predicted Label  Correct?\n",
      "0  163.577874      Apple           Apple      True\n",
      "1  165.607845      Apple           Apple      True\n",
      "2  170.830512      Apple           Apple      True\n",
      "3  170.538021      Apple           Apple      True\n",
      "4  146.223306      Apple           Apple      True\n"
     ]
    }
   ],
   "source": [
    "import numpy as np\n",
    "from scipy.stats import norm\n",
    "import matplotlib.pyplot as plt\n",
    "\n",
    "# 1. Set random seed for reproducibility\n",
    "np.random.seed(42)\n",
    "\n",
    "# 2. Generate training data\n",
    "# Apples: mean=160g, std=10g\n",
    "train_apples = np.random.normal(loc=160, scale=10, size=100)\n",
    "# Oranges: mean=130g, std=10g\n",
    "train_oranges = np.random.normal(loc=130, scale=10, size=100)\n",
    "\n",
    "# 3. Generate test data\n",
    "test_apples = np.random.normal(loc=160, scale=10, size=25)\n",
    "test_oranges = np.random.normal(loc=130, scale=10, size=25)\n",
    "test_data = np.concatenate([test_apples, test_oranges])\n",
    "test_labels = np.array([1]*25 + [0]*25)  # 1 = apple, 0 = orange\n",
    "\n",
    "# 4. Estimate parameters using MLE\n",
    "mu_apple, std_apple = np.mean(train_apples), np.std(train_apples)\n",
    "mu_orange, std_orange = np.mean(train_oranges), np.std(train_oranges)\n",
    "\n",
    "# 5. Assign uniform priors\n",
    "prior_apple = 0.5\n",
    "prior_orange = 0.5\n",
    "\n",
    "# 6. Compute likelihoods using Gaussian PDF\n",
    "likelihood_apple = norm.pdf(test_data, loc=mu_apple, scale=std_apple)\n",
    "likelihood_orange = norm.pdf(test_data, loc=mu_orange, scale=std_orange)\n",
    "\n",
    "# 7. Compute posteriors (unnormalized)\n",
    "posterior_apple = likelihood_apple * prior_apple\n",
    "posterior_orange = likelihood_orange * prior_orange\n",
    "\n",
    "# 8. Make MAP prediction\n",
    "predictions = (posterior_apple > posterior_orange).astype(int)\n",
    "\n",
    "# 9. Evaluate model\n",
    "accuracy = np.mean(predictions == test_labels)\n",
    "print(\"Accuracy:\", accuracy)\n",
    "\n",
    "# 10. Optional: Build a dataframe for display\n",
    "import pandas as pd\n",
    "df = pd.DataFrame({\n",
    "    \"Weight (g)\": test_data,\n",
    "    \"True Label\": [\"Apple\" if l == 1 else \"Orange\" for l in test_labels],\n",
    "    \"Predicted Label\": [\"Apple\" if p == 1 else \"Orange\" for p in predictions],\n",
    "    \"Correct?\": predictions == test_labels\n",
    "})\n",
    "print(df.head())\n"
   ]
  },
  {
   "cell_type": "code",
   "execution_count": null,
   "id": "6da4db0f-73e9-4396-9960-53b2156822e2",
   "metadata": {},
   "outputs": [],
   "source": []
  },
  {
   "cell_type": "code",
   "execution_count": null,
   "id": "a127a3b4-849f-4c2b-8cf1-1a3fba878546",
   "metadata": {},
   "outputs": [],
   "source": []
  }
 ],
 "metadata": {
  "kernelspec": {
   "display_name": "Python [conda env:base] *",
   "language": "python",
   "name": "conda-base-py"
  },
  "language_info": {
   "codemirror_mode": {
    "name": "ipython",
    "version": 3
   },
   "file_extension": ".py",
   "mimetype": "text/x-python",
   "name": "python",
   "nbconvert_exporter": "python",
   "pygments_lexer": "ipython3",
   "version": "3.13.5"
  }
 },
 "nbformat": 4,
 "nbformat_minor": 5
}
